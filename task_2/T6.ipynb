{
 "cells": [
  {
   "cell_type": "code",
   "execution_count": 2,
   "metadata": {},
   "outputs": [],
   "source": [
    "import numpy as np\n",
    "from scipy import stats as st\n",
    "from matplotlib import pyplot as plt\n",
    "\n",
    "%matplotlib inline"
   ]
  },
  {
   "cell_type": "code",
   "execution_count": null,
   "metadata": {},
   "outputs": [
    {
     "data": {
      "text/plain": [
       "array([1.41346661, 1.2661022 , 1.21138476, 1.84711006, 2.30617454,\n",
       "       3.60905164, 1.08802688, 1.25672836, 1.1837064 , 3.94856169,\n",
       "       1.21371951, 2.16082598, 3.43425602, 5.9864374 , 1.98077684,\n",
       "       1.18473628, 1.69426348, 1.53096736, 3.40205581, 1.11719655,\n",
       "       1.93425033, 1.03938543, 1.42123253, 1.50680292, 1.57438131,\n",
       "       3.80445378, 1.04327992, 1.84269538, 1.38442297, 1.77045252,\n",
       "       1.65130723, 1.05761993, 1.32280571, 1.23907394, 2.1137118 ,\n",
       "       1.38901558, 3.79710463, 1.5585524 , 1.02327373, 1.24022571,\n",
       "       1.03239175, 1.46370859, 1.05399354, 1.09598173, 1.35796643,\n",
       "       2.97334518, 1.31650443, 1.88764514, 1.05706802, 1.76243688,\n",
       "       1.42793582, 1.70125254, 1.16166761, 1.70250402, 1.8586598 ,\n",
       "       1.32402892, 1.74887435, 2.52792164, 1.23337341, 1.8645685 ,\n",
       "       2.71219858, 5.92469347, 1.05377394, 1.03670778, 2.02841937,\n",
       "       1.01871727, 1.32977836, 1.20177314, 1.14088525, 3.24237356,\n",
       "       1.8204553 , 1.4007678 , 1.97318356, 1.4381452 , 1.02234752,\n",
       "       1.25910244, 1.29772294, 1.72797891, 1.49641982, 1.52794762,\n",
       "       1.36099706, 3.6097995 , 1.27161616, 1.4023025 , 1.50167202,\n",
       "       1.2968061 , 1.2661336 , 1.00498316, 1.25989606, 1.30995847,\n",
       "       1.62084316, 2.17466387, 2.11414515, 1.160508  , 2.35241206,\n",
       "       1.55489668, 1.20916219, 1.30331343, 1.36785354, 1.55171769])"
      ]
     },
     "execution_count": 6,
     "metadata": {},
     "output_type": "execute_result"
    }
   ],
   "source": [
    "# d)\n",
    "n = 100\n",
    "theta = 3\n",
    "sample = np.pow(1 - np.random.rand(n), 1 / (1 - theta))\n",
    "sample"
   ]
  },
  {
   "cell_type": "code",
   "execution_count": 8,
   "metadata": {},
   "outputs": [
    {
     "data": {
      "text/plain": [
       "np.float64(3.119351125177807)"
      ]
     },
     "execution_count": 8,
     "metadata": {},
     "output_type": "execute_result"
    }
   ],
   "source": [
    "theta_assessment = (n / np.sum(np.log(sample))) + 1\n",
    "theta_assessment"
   ]
  },
  {
   "cell_type": "code",
   "execution_count": 9,
   "metadata": {},
   "outputs": [
    {
     "data": {
      "text/plain": [
       "np.float64(1.386879584543782)"
      ]
     },
     "execution_count": 9,
     "metadata": {},
     "output_type": "execute_result"
    }
   ],
   "source": [
    "median_assessment = np.pow(2, 1 / (theta_assessment - 1))\n",
    "median_assessment"
   ]
  },
  {
   "cell_type": "code",
   "execution_count": 12,
   "metadata": {},
   "outputs": [
    {
     "name": "stdout",
     "output_type": "stream",
     "text": [
      "theta_asymptotic_ci = (2.703958304642957, 3.5347439457126573)\n",
      "\n",
      "median_asymptotic_ci = (1.2979763887368503, 1.4757827803507138)\n"
     ]
    }
   ],
   "source": [
    "theta_asymptotic_ci = (\n",
    "    float(theta_assessment - 1.96 * (theta_assessment - 1) / n**0.5),\n",
    "    float(theta_assessment + 1.96 * (theta_assessment - 1) / n**0.5)\n",
    ")\n",
    "\n",
    "median_asymptotic_ci = (\n",
    "    float(-1.96 * median_assessment * np.log(2) / (theta_assessment - 1) / np.sqrt(n) + median_assessment),\n",
    "    float(1.96 * median_assessment * np.log(2) / (theta_assessment - 1) / np.sqrt(n) + median_assessment)\n",
    ")\n",
    "\n",
    "print(\n",
    "    f\"{theta_asymptotic_ci = }\",\n",
    "    f\"{median_asymptotic_ci = }\",\n",
    "    sep=\"\\n\\n\"\n",
    ")"
   ]
  },
  {
   "cell_type": "code",
   "execution_count": null,
   "metadata": {},
   "outputs": [
    {
     "name": "stdout",
     "output_type": "stream",
     "text": [
      "theta_nonparametric_bootstrap_ci = (2.8188381132143965, 3.5544267052831864)\n",
      "\n",
      "theta_parametric_bootstrap_ci = (2.632987863239712, 3.4770670596928066)\n"
     ]
    }
   ],
   "source": [
    "# t)\n",
    "from collections.abc import Callable\n",
    "from typing import NamedTuple\n",
    "\n",
    "\n",
    "class ConfidenceInterval(NamedTuple):\n",
    "    low: float\n",
    "    high: float\n",
    "\n",
    "\n",
    "def parametric_bootstrap(\n",
    "    data: np.ndarray,\n",
    "    statistic: Callable[[np.ndarray], float],\n",
    "    prob_model: Callable[[int], np.ndarray],\n",
    "    n_resamples: int = 10_000,\n",
    "    confidence_level: float = 0.95,\n",
    ") -> ConfidenceInterval:\n",
    "    n = len(data)\n",
    "    bootstrap_data = np.ndarray((n_resamples, ), dtype=np.float32)\n",
    "\n",
    "    for i in range(n_resamples):\n",
    "        resample = prob_model(n)\n",
    "        bootstrap_data[i] = statistic(resample)\n",
    "    \n",
    "    bootstrap_data.sort()\n",
    "\n",
    "    return ConfidenceInterval(\n",
    "        low=bootstrap_data[round((1 - confidence_level) / 2 * n_resamples) - 1],\n",
    "        high=bootstrap_data[round((1 + confidence_level) / 2 * n_resamples) - 1]\n",
    "    )\n",
    "\n",
    "\n",
    "statistic = lambda x: (n / np.sum(np.log(x))) + 1 - theta_assessment\n",
    "\n",
    "theta_nonparametric_bootstrap_ci = st.bootstrap(\n",
    "    (sample, ), \n",
    "    statistic, \n",
    "    n_resamples=1_000, \n",
    "    method='basic',\n",
    "    confidence_level=0.95\n",
    ").confidence_interval\n",
    "theta_nonparametric_bootstrap_ci = (\n",
    "    float(theta_assessment - theta_nonparametric_bootstrap_ci.high),\n",
    "    float(theta_assessment - theta_nonparametric_bootstrap_ci.low)\n",
    ")\n",
    "\n",
    "theta_parametric_bootstrap_ci = parametric_bootstrap(\n",
    "    sample,\n",
    "    statistic,\n",
    "    lambda n: np.pow(np.random.rand(n), 1 / (1 - theta_assessment)),\n",
    "    n_resamples=50_000, \n",
    "    confidence_level=0.95\n",
    ")\n",
    "theta_parametric_bootstrap_ci = (\n",
    "    float(theta_assessment - theta_parametric_bootstrap_ci.high),\n",
    "    float(theta_assessment - theta_parametric_bootstrap_ci.low)\n",
    ")\n",
    "\n",
    "print(\n",
    "    f\"{theta_nonparametric_bootstrap_ci = }\",\n",
    "    f\"{theta_parametric_bootstrap_ci = }\",\n",
    "    sep=\"\\n\\n\"\n",
    ")"
   ]
  },
  {
   "cell_type": "code",
   "execution_count": 19,
   "metadata": {},
   "outputs": [
    {
     "name": "stdout",
     "output_type": "stream",
     "text": [
      "median_nonparametric_bootstrap_ci = (1.3212664361761504, 1.4697341535265536)\n",
      "\n",
      "median_parametric_bootstrap_ci = (1.2899195614982422, 1.4690410781431968)\n"
     ]
    }
   ],
   "source": [
    "statistic = lambda x: np.pow(2, 1 / (n / np.sum(np.log(x)))) - median_assessment\n",
    "\n",
    "median_nonparametric_bootstrap_ci = st.bootstrap(\n",
    "    (sample, ), \n",
    "    statistic, \n",
    "    n_resamples=1_000,\n",
    "    method='basic',\n",
    "    confidence_level=0.95\n",
    ").confidence_interval\n",
    "median_nonparametric_bootstrap_ci = (\n",
    "    float(median_assessment - median_nonparametric_bootstrap_ci.high),\n",
    "    float(median_assessment - median_nonparametric_bootstrap_ci.low)\n",
    ")\n",
    "\n",
    "median_parametric_bootstrap_ci = parametric_bootstrap(\n",
    "    sample,\n",
    "    statistic,\n",
    "    lambda n: np.pow((1 - np.random.rand(n)), 1 / (1 - theta_assessment)),\n",
    "    n_resamples=50_000, \n",
    "    confidence_level=0.95\n",
    ")\n",
    "median_parametric_bootstrap_ci = (\n",
    "    float(median_assessment - median_parametric_bootstrap_ci.high),\n",
    "    float(median_assessment - median_parametric_bootstrap_ci.low)\n",
    ")\n",
    "\n",
    "print(\n",
    "    f\"{median_nonparametric_bootstrap_ci = }\",\n",
    "    f\"{median_parametric_bootstrap_ci = }\",\n",
    "    sep=\"\\n\\n\"\n",
    ")"
   ]
  },
  {
   "cell_type": "code",
   "execution_count": null,
   "metadata": {},
   "outputs": [
    {
     "name": "stdout",
     "output_type": "stream",
     "text": [
      "theta_asymptotic_ci = (2.703958304642957, 3.5347439457126573)\n",
      "l = 0.8307856410697001\n",
      "\n",
      "theta_nonparametric_bootstrap_ci = (2.8188381132143965, 3.5544267052831864)\n",
      "l = 0.7355885920687899\n",
      "\n",
      "theta_parametric_bootstrap_ci = (2.632987863239712, 3.4770670596928066)\n",
      "l = 0.8440791964530945\n"
     ]
    }
   ],
   "source": [
    "# f)\n",
    "print(\n",
    "    f\"{theta_asymptotic_ci = }\\nl = {theta_asymptotic_ci[1] - theta_asymptotic_ci[0]}\",\n",
    "    f\"{theta_nonparametric_bootstrap_ci = }\\nl = {theta_nonparametric_bootstrap_ci[1] - theta_nonparametric_bootstrap_ci[0]}\",\n",
    "    f\"{theta_parametric_bootstrap_ci = }\\nl = {theta_parametric_bootstrap_ci[1] - theta_parametric_bootstrap_ci[0]}\",\n",
    "    sep=\"\\n\\n\"\n",
    ")"
   ]
  },
  {
   "cell_type": "code",
   "execution_count": 21,
   "metadata": {},
   "outputs": [
    {
     "name": "stdout",
     "output_type": "stream",
     "text": [
      "median_asymptotic_ci = (1.2979763887368503, 1.4757827803507138)\n",
      "l = 0.17780639161386347\n",
      "\n",
      "median_nonparametric_bootstrap_ci = (1.3212664361761504, 1.4697341535265536)\n",
      "l = 0.1484677173504032\n",
      "\n",
      "median_parametric_bootstrap_ci = (1.2899195614982422, 1.4690410781431968)\n",
      "l = 0.17912151664495468\n"
     ]
    }
   ],
   "source": [
    "print(\n",
    "    f\"{median_asymptotic_ci = }\\nl = {median_asymptotic_ci[1] - median_asymptotic_ci[0]}\",\n",
    "    f\"{median_nonparametric_bootstrap_ci = }\\nl = {median_nonparametric_bootstrap_ci[1] - median_nonparametric_bootstrap_ci[0]}\",\n",
    "    f\"{median_parametric_bootstrap_ci = }\\nl = {median_parametric_bootstrap_ci[1] - median_parametric_bootstrap_ci[0]}\",\n",
    "    sep=\"\\n\\n\"\n",
    ")"
   ]
  }
 ],
 "metadata": {
  "kernelspec": {
   "display_name": "venv",
   "language": "python",
   "name": "python3"
  },
  "language_info": {
   "codemirror_mode": {
    "name": "ipython",
    "version": 3
   },
   "file_extension": ".py",
   "mimetype": "text/x-python",
   "name": "python",
   "nbconvert_exporter": "python",
   "pygments_lexer": "ipython3",
   "version": "3.12.3"
  }
 },
 "nbformat": 4,
 "nbformat_minor": 2
}
