{
 "cells": [
  {
   "cell_type": "code",
   "execution_count": 66,
   "metadata": {},
   "outputs": [],
   "source": [
    "import numpy as np\n",
    "from scipy import stats as st"
   ]
  },
  {
   "cell_type": "code",
   "execution_count": 67,
   "metadata": {},
   "outputs": [
    {
     "data": {
      "text/plain": [
       "array([11.41633711, 18.35713299, 19.75357581, 14.93995125, 16.50801982,\n",
       "       16.21497538, 11.90137082, 13.85095356, 14.40366388, 16.40366954,\n",
       "       12.02131216, 13.55641257, 17.19844602, 12.58231501, 19.71928129,\n",
       "       19.58628029, 16.09081235, 14.52216543, 16.25127111, 10.6062175 ,\n",
       "       19.94462011, 19.22893094, 10.560234  , 18.1478285 , 12.26480411,\n",
       "       11.51606363, 15.36216639, 15.04267696, 16.88313621, 15.38500294,\n",
       "       17.6009016 , 11.72321043, 11.48591608, 16.84934337, 13.2948652 ,\n",
       "       14.1609732 , 18.32802881, 13.89475797, 11.57742632, 13.91944395,\n",
       "       15.3733781 , 17.08385407, 13.02093433, 11.03361109, 16.48646985,\n",
       "       13.07568494, 19.06295157, 12.65575563, 18.00625244, 14.11514089,\n",
       "       16.88398174, 11.17345622, 10.80327049, 11.29848622, 10.68319302,\n",
       "       14.72246134, 13.23506558, 14.58811408, 19.54260696, 16.21050524,\n",
       "       19.75585033, 13.31629088, 17.55795061, 18.20998259, 11.26240339,\n",
       "       19.90413606, 13.51413941, 13.6766053 , 17.16094601, 11.70253411,\n",
       "       10.15081204, 14.81296457, 18.99008021, 12.26173971, 17.36344693,\n",
       "       19.93583678, 17.92495052, 11.10355469, 12.50344127, 10.79042738,\n",
       "       15.25330398, 10.66602109, 10.11260852, 19.87059924, 17.9968682 ,\n",
       "       10.27363306, 19.03426718, 17.51608149, 11.66234378, 13.4042139 ,\n",
       "       18.02508903, 12.20262286, 18.15992266, 19.06550571, 12.90580109,\n",
       "       10.29578476, 12.15789913, 10.64797318, 11.64054579, 16.05964069])"
      ]
     },
     "execution_count": 67,
     "metadata": {},
     "output_type": "execute_result"
    }
   ],
   "source": [
    "theta = 10\n",
    "n = 100\n",
    "sample = theta * (np.random.rand(n) + 1)\n",
    "sample"
   ]
  },
  {
   "cell_type": "code",
   "execution_count": 68,
   "metadata": {},
   "outputs": [
    {
     "data": {
      "text/plain": [
       "np.float64(10.02192353911034)"
      ]
     },
     "execution_count": 68,
     "metadata": {},
     "output_type": "execute_result"
    }
   ],
   "source": [
    "theta_assessment = (len(sample) + 1) / (2 * len(sample) + 1) * np.max(sample)\n",
    "theta_assessment"
   ]
  },
  {
   "cell_type": "code",
   "execution_count": 69,
   "metadata": {},
   "outputs": [
    {
     "name": "stdout",
     "output_type": "stream",
     "text": [
      "exact_ci = (9.973572441392532, 10.156222449691718)\n",
      "\n",
      "asymptotic_ci = (9.474967595582477, 10.27114555860097)\n"
     ]
    }
   ],
   "source": [
    "# f)\n",
    "exact_ci = (\n",
    "    float(np.max(sample) / (1 + np.pow(0.975, 1 / n))),\n",
    "    float(np.max(sample) / (1 + np.pow(0.025, 1 / n)))\n",
    ")\n",
    "\n",
    "alpha_1_assessment = np.mean(sample)\n",
    "sqrt_mu_2_assessment = np.std(sample)\n",
    "\n",
    "asymptotic_ci = (\n",
    "    float(-1.96 * np.sqrt(4 / (n * 9)) * sqrt_mu_2_assessment + 2 / 3 * alpha_1_assessment),\n",
    "    float(1.96 * np.sqrt(4 / (n * 9)) * sqrt_mu_2_assessment + 2 / 3 * alpha_1_assessment)\n",
    ")\n",
    "\n",
    "print(\n",
    "    f\"{exact_ci = }\",\n",
    "    f\"{asymptotic_ci = }\",\n",
    "    sep=\"\\n\\n\"\n",
    ")"
   ]
  },
  {
   "cell_type": "code",
   "execution_count": 72,
   "metadata": {},
   "outputs": [
    {
     "name": "stdout",
     "output_type": "stream",
     "text": [
      "nonparametric_bootstrap_ci = (9.984728973099804, 10.02192353911034)\n",
      "\n",
      "parametric_bootstrap_ci = (9.973326348581232, 10.154016283222354)\n"
     ]
    }
   ],
   "source": [
    "# g)\n",
    "from collections.abc import Callable\n",
    "from typing import NamedTuple\n",
    "\n",
    "\n",
    "class ConfidenceInterval(NamedTuple):\n",
    "    low: float\n",
    "    high: float\n",
    "\n",
    "\n",
    "def parametric_bootstrap(\n",
    "    sample: np.ndarray,\n",
    "    statistic: Callable[[np.ndarray], float],\n",
    "    prob_model: Callable[[int], np.ndarray],\n",
    "    n_resamples: int = 10_000,\n",
    "    confidence_level: float = 0.95,\n",
    ") -> ConfidenceInterval:\n",
    "    n = len(sample)\n",
    "    bootstrap_data = np.ndarray((n_resamples, ), dtype=np.float32)\n",
    "\n",
    "    for i in range(n_resamples):\n",
    "        resample = prob_model(n)\n",
    "        bootstrap_data[i] = statistic(resample)\n",
    "    \n",
    "    bootstrap_data.sort()\n",
    "\n",
    "    return ConfidenceInterval(\n",
    "        low=bootstrap_data[round((1 - confidence_level) / 2 * n_resamples) - 1],\n",
    "        high=bootstrap_data[round((1 + confidence_level) / 2 * n_resamples) - 1]\n",
    "    )\n",
    "\n",
    "\n",
    "statistic = lambda x: (n + 1) / (2 * n + 1) * np.max(x) - theta_assessment\n",
    "\n",
    "nonparametric_bootstrap_ci = st.bootstrap(\n",
    "    (sample, ), \n",
    "    statistic, \n",
    "    n_resamples=1_000, \n",
    "    method='basic',\n",
    "    confidence_level=0.95\n",
    ").confidence_interval\n",
    "nonparametric_bootstrap_ci = (\n",
    "    float(theta_assessment - nonparametric_bootstrap_ci.high),\n",
    "    float(theta_assessment - nonparametric_bootstrap_ci.low)\n",
    ")\n",
    "\n",
    "parametric_bootstrap_ci = parametric_bootstrap(\n",
    "    sample,\n",
    "    statistic,\n",
    "    lambda n: np.random.uniform(theta_assessment, theta_assessment * 2, n),\n",
    "    n_resamples=50_000, \n",
    "    confidence_level=0.95\n",
    ")\n",
    "parametric_bootstrap_ci = (\n",
    "    float(theta_assessment - parametric_bootstrap_ci.high),\n",
    "    float(theta_assessment - parametric_bootstrap_ci.low)\n",
    ")\n",
    "\n",
    "print(\n",
    "    f\"{nonparametric_bootstrap_ci = }\",\n",
    "    f\"{parametric_bootstrap_ci = }\",\n",
    "    sep=\"\\n\\n\"\n",
    ")"
   ]
  },
  {
   "cell_type": "code",
   "execution_count": 73,
   "metadata": {},
   "outputs": [
    {
     "name": "stdout",
     "output_type": "stream",
     "text": [
      "exact_ci = (9.973572441392532, 10.156222449691718)\n",
      "l = 0.18265000829918598\n",
      "\n",
      "asymptotic_ci = (9.474967595582477, 10.27114555860097)\n",
      "l = 0.7961779630184935\n",
      "\n",
      "nonparametric_bootstrap_ci = (9.984728973099804, 10.02192353911034)\n",
      "l = 0.03719456601053572\n",
      "\n",
      "parametric_bootstrap_ci = (9.973326348581232, 10.154016283222354)\n",
      "l = 0.18068993464112282\n"
     ]
    }
   ],
   "source": [
    "# h)\n",
    "print(\n",
    "    f\"{exact_ci = }\\nl = {exact_ci[1] - exact_ci[0]}\",\n",
    "    f\"{asymptotic_ci = }\\nl = {asymptotic_ci[1] - asymptotic_ci[0]}\",\n",
    "    f\"{nonparametric_bootstrap_ci = }\\nl = {nonparametric_bootstrap_ci[1] - nonparametric_bootstrap_ci[0]}\",\n",
    "    f\"{parametric_bootstrap_ci = }\\nl = {parametric_bootstrap_ci[1] - parametric_bootstrap_ci[0]}\",\n",
    "    sep=\"\\n\\n\"\n",
    ")"
   ]
  }
 ],
 "metadata": {
  "kernelspec": {
   "display_name": "venv",
   "language": "python",
   "name": "python3"
  },
  "language_info": {
   "codemirror_mode": {
    "name": "ipython",
    "version": 3
   },
   "file_extension": ".py",
   "mimetype": "text/x-python",
   "name": "python",
   "nbconvert_exporter": "python",
   "pygments_lexer": "ipython3",
   "version": "3.12.3"
  }
 },
 "nbformat": 4,
 "nbformat_minor": 2
}
