{
 "cells": [
  {
   "cell_type": "code",
   "execution_count": 13,
   "metadata": {},
   "outputs": [],
   "source": [
    "import numpy as np\n",
    "from scipy.stats import chi2\n",
    "from math import factorial"
   ]
  },
  {
   "cell_type": "code",
   "execution_count": 25,
   "metadata": {},
   "outputs": [
    {
     "name": "stdout",
     "output_type": "stream",
     "text": [
      "np_i = array([108.6,  66.2,  20.2,   4.2,   0.6])\n"
     ]
    }
   ],
   "source": [
    "m_i = np.array([109, 65, 22, 3, 1])\n",
    "val = np.array([0, 1, 2, 3, 4])\n",
    "\n",
    "n = np.sum(m_i)\n",
    "v_i = m_i / n\n",
    "\n",
    "lambda_ = sum(m_i * val) / sum(m_i)\n",
    "p_i = np.array([round(lambda_ ** k / factorial(k) * np.exp(-lambda_), 3) for k in range(5)])\n",
    "np_i = p_i * n\n",
    "\n",
    "print(f\"{np_i = }\")"
   ]
  },
  {
   "cell_type": "markdown",
   "metadata": {},
   "source": [
    "4 и 5 группы необходимо объединить, т.к. для них np < 5"
   ]
  },
  {
   "cell_type": "code",
   "execution_count": 15,
   "metadata": {},
   "outputs": [
    {
     "name": "stdout",
     "output_type": "stream",
     "text": [
      "np_i = array([108.6,  66.2,  20.2,   5. ])\n"
     ]
    }
   ],
   "source": [
    "m_i = np.array([m_i[0], m_i[1], m_i[2], sum(m_i[3:])])\n",
    "v_i = m_i / n\n",
    "\n",
    "p_i = np.array([round(lambda_ ** k / factorial(k) * np.exp(-lambda_), 3) for k in range(3)])\n",
    "p_i = np.append(p_i, 1 - sum(p_i))\n",
    "np_i = p_i * n\n",
    "\n",
    "print(f\"{np_i = }\")"
   ]
  },
  {
   "cell_type": "code",
   "execution_count": 20,
   "metadata": {},
   "outputs": [
    {
     "name": "stdout",
     "output_type": "stream",
     "text": [
      "delta = 0.38362160196590145\n"
     ]
    }
   ],
   "source": [
    "delta = float(np.sum((m_i - np_i) ** 2 / np_i))\n",
    "print(f\"{delta = }\")"
   ]
  },
  {
   "cell_type": "code",
   "execution_count": 24,
   "metadata": {},
   "outputs": [
    {
     "name": "stdout",
     "output_type": "stream",
     "text": [
      "p_val = 0.8254630305123496\n"
     ]
    }
   ],
   "source": [
    "p_val = float(chi2.sf(delta, 2))\n",
    "print(f\"{p_val = }\")"
   ]
  },
  {
   "cell_type": "markdown",
   "metadata": {},
   "source": [
    "p_val > 0.05, следовательно, нет оснований отвергать гипотезу H0"
   ]
  }
 ],
 "metadata": {
  "kernelspec": {
   "display_name": "venv",
   "language": "python",
   "name": "python3"
  },
  "language_info": {
   "codemirror_mode": {
    "name": "ipython",
    "version": 3
   },
   "file_extension": ".py",
   "mimetype": "text/x-python",
   "name": "python",
   "nbconvert_exporter": "python",
   "pygments_lexer": "ipython3",
   "version": "3.12.3"
  }
 },
 "nbformat": 4,
 "nbformat_minor": 2
}
