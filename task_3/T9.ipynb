{
 "cells": [
  {
   "cell_type": "code",
   "execution_count": null,
   "metadata": {},
   "outputs": [],
   "source": [
    "from scipy.stats import chi2"
   ]
  },
  {
   "cell_type": "code",
   "execution_count": 3,
   "metadata": {},
   "outputs": [
    {
     "name": "stdout",
     "output_type": "stream",
     "text": [
      "delta = 2.0771359218904255\n"
     ]
    }
   ],
   "source": [
    "a1 = [33.,43.,80.,144.]\n",
    "a2 = [39.,35.,72.,154.]\n",
    "\n",
    "p_i = [(a1[i] + a2[i]) / 2 for i in range(len(a1))]\n",
    "\n",
    "delta_1 = [((a1[i] - p_i[i]) ** 2) / p_i[i] for i in range(len(a1))]\n",
    "delta_2 = [((a2[i] - p_i[i]) ** 2) / p_i[i] for i in range(len(a1))]\n",
    "\n",
    "delta = float(sum(delta_2) + sum(delta_1))\n",
    "print(f\"{delta = }\")"
   ]
  },
  {
   "cell_type": "code",
   "execution_count": 5,
   "metadata": {},
   "outputs": [
    {
     "name": "stdout",
     "output_type": "stream",
     "text": [
      "p_val = 0.5565521530460769\n"
     ]
    }
   ],
   "source": [
    "p_val = float(chi2.sf(delta, 3))\n",
    "print(f\"{p_val = }\")"
   ]
  },
  {
   "cell_type": "markdown",
   "metadata": {},
   "source": [
    "p_val > 0.05, следовательно, нет оснований отвергать гипотезу"
   ]
  }
 ],
 "metadata": {
  "kernelspec": {
   "display_name": "venv",
   "language": "python",
   "name": "python3"
  },
  "language_info": {
   "codemirror_mode": {
    "name": "ipython",
    "version": 3
   },
   "file_extension": ".py",
   "mimetype": "text/x-python",
   "name": "python",
   "nbconvert_exporter": "python",
   "pygments_lexer": "ipython3",
   "version": "3.12.3"
  }
 },
 "nbformat": 4,
 "nbformat_minor": 2
}
