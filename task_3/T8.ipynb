{
 "cells": [
  {
   "cell_type": "code",
   "execution_count": 7,
   "metadata": {},
   "outputs": [],
   "source": [
    "import numpy as np\n",
    "from scipy.stats import chi2"
   ]
  },
  {
   "cell_type": "code",
   "execution_count": 8,
   "metadata": {},
   "outputs": [
    {
     "name": "stdout",
     "output_type": "stream",
     "text": [
      "p_i = array([0.5, 0.5])\n",
      "q_i = array([0.385, 0.455, 0.16 ])\n"
     ]
    }
   ],
   "source": [
    "m_i = np.array([\n",
    "    [25, 50, 25],\n",
    "    [52, 41, 7]\n",
    "])\n",
    "n = np.sum(m_i)\n",
    "p_i = np.sum(m_i, axis=1) / n\n",
    "q_i = np.sum(m_i, axis=0) / n\n",
    "\n",
    "print(f\"{p_i = }\", f\"{q_i = }\", sep=\"\\n\")"
   ]
  },
  {
   "cell_type": "code",
   "execution_count": 9,
   "metadata": {},
   "outputs": [
    {
     "name": "stdout",
     "output_type": "stream",
     "text": [
      "delta=20.48264235764236\n"
     ]
    }
   ],
   "source": [
    "delta = 0\n",
    "h, w = m_i.shape\n",
    "for i in range(h):\n",
    "    for j in range(w):\n",
    "        delta += np.square(m_i[i, j] - n * p_i[i] * q_i[j]) / (n * p_i[i] * q_i[j])\n",
    "delta = float(delta)\n",
    "\n",
    "print(f\"{delta=}\")"
   ]
  },
  {
   "cell_type": "code",
   "execution_count": 11,
   "metadata": {},
   "outputs": [
    {
     "name": "stdout",
     "output_type": "stream",
     "text": [
      "p_val = 3.566569773595299e-05\n"
     ]
    }
   ],
   "source": [
    "p_val = float(chi2.sf(delta, (h-1)*(w-1)))\n",
    "print(f\"{p_val = }\")"
   ]
  },
  {
   "cell_type": "markdown",
   "metadata": {},
   "source": [
    "p_val < 0.05, следовательно, отвергаем гипотезу H0"
   ]
  }
 ],
 "metadata": {
  "kernelspec": {
   "display_name": "venv",
   "language": "python",
   "name": "python3"
  },
  "language_info": {
   "codemirror_mode": {
    "name": "ipython",
    "version": 3
   },
   "file_extension": ".py",
   "mimetype": "text/x-python",
   "name": "python",
   "nbconvert_exporter": "python",
   "pygments_lexer": "ipython3",
   "version": "3.12.3"
  }
 },
 "nbformat": 4,
 "nbformat_minor": 2
}
