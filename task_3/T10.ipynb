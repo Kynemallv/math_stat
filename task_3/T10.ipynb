{
 "cells": [
  {
   "cell_type": "code",
   "execution_count": 92,
   "metadata": {},
   "outputs": [],
   "source": [
    "import scipy.stats as st\n",
    "import matplotlib.pyplot as plt\n",
    "import numpy as np\n",
    "from scipy.optimize import differential_evolution\n",
    "\n",
    "n = 100"
   ]
  },
  {
   "cell_type": "markdown",
   "metadata": {},
   "source": [
    "## Пункт а"
   ]
  },
  {
   "cell_type": "markdown",
   "metadata": {},
   "source": [
    "##### Хи квадрат"
   ]
  },
  {
   "cell_type": "code",
   "execution_count": 101,
   "metadata": {},
   "outputs": [
    {
     "name": "stdout",
     "output_type": "stream",
     "text": [
      "chi2_pval = 0.058984030544419454\n"
     ]
    }
   ],
   "source": [
    "chi2_pval = float(st.chi2.sf(16.4, 9))\n",
    "print(f\"{chi2_pval = }\")"
   ]
  },
  {
   "cell_type": "markdown",
   "metadata": {},
   "source": [
    "##### Колмогоров"
   ]
  },
  {
   "cell_type": "code",
   "execution_count": 104,
   "metadata": {},
   "outputs": [
    {
     "data": {
      "text/plain": [
       "[<matplotlib.lines.Line2D at 0x1d3257eb770>]"
      ]
     },
     "execution_count": 104,
     "metadata": {},
     "output_type": "execute_result"
    },
    {
     "data": {
      "image/png": "[encoded data removed]",
      "text/plain": [
       "<Figure size 640x480 with 1 Axes>"
      ]
     },
     "metadata": {},
     "output_type": "display_data"
    }
   ],
   "source": [
    "count = [5, 8, 6, 12, 14, 18, 11, 6, 13, 7]\n",
    "sample = []\n",
    "for i in range(len(count)):\n",
    "    sample += [i]*count[i]\n",
    "\n",
    "x = np.linspace(0, 9, 10)\n",
    "ecdf = np.append([0], st.ecdf(sample).cdf.probabilities)\n",
    "cdf = st.uniform.cdf(x, loc=0, scale=9)\n",
    "\n",
    "plt.ecdf(sample)\n",
    "plt.plot(x, cdf)"
   ]
  },
  {
   "cell_type": "code",
   "execution_count": 95,
   "metadata": {},
   "outputs": [
    {
     "name": "stdout",
     "output_type": "stream",
     "text": [
      "kolmogorov_delta = 1.4333333333333331\n",
      "kolmogorov_pval = 0.03285188543859743\n"
     ]
    }
   ],
   "source": [
    "kolmogorov_delta = np.sqrt(n) * np.max(np.abs(\n",
    "    np.append(\n",
    "        cdf - ecdf[:10],\n",
    "        cdf - ecdf[1:]\n",
    "    )\n",
    "))\n",
    "kolmogorov_delta = float(kolmogorov_delta)\n",
    "\n",
    "kolmogorov_pval = 0\n",
    "for i in range(1, 100_000):\n",
    "    kolmogorov_pval += ((-1)**(i + 1)) * np.exp(-2 * (i**2) * (kolmogorov_delta**2))\n",
    "kolmogorov_pval = float(2 * kolmogorov_pval)\n",
    "\n",
    "print(\n",
    "    f\"{kolmogorov_delta = }\",\n",
    "    f\"{kolmogorov_pval = }\",\n",
    "    sep=\"\\n\"\n",
    ")"
   ]
  },
  {
   "cell_type": "markdown",
   "metadata": {},
   "source": [
    "## Пункт b"
   ]
  },
  {
   "cell_type": "markdown",
   "metadata": {},
   "source": [
    "##### Хи квадрат"
   ]
  },
  {
   "cell_type": "code",
   "execution_count": 96,
   "metadata": {},
   "outputs": [
    {
     "name": "stdout",
     "output_type": "stream",
     "text": [
      "theta_1 = 5.2886351124187385\n",
      "theta_2 = 2.678593475626779\n",
      "\n",
      "np_i = array([ 5.46799037,  5.50910743,  8.66660833, 11.87904563, 14.18670178,\n",
      "       14.76218238, 13.38410454, 10.57296377,  7.27730445,  8.29399133])\n"
     ]
    }
   ],
   "source": [
    "m_i = [5, 8, 6, 12, 14, 18, 11, 6, 13, 7]\n",
    "\n",
    "def func(x):\n",
    "    global m_i\n",
    "    \n",
    "    loc = x[0]\n",
    "    scale = x[1]\n",
    "\n",
    "    p_i = st.norm.cdf([1, 2, 3, 4, 5, 6, 7, 8, 9], loc=loc, scale=scale)\n",
    "    product = 1\n",
    "    for i in range(8):\n",
    "        product *= (p_i[i + 1] - p_i[i]) ** m_i[i + 1]\n",
    "\n",
    "    return - (p_i[0] ** m_i[0] * (1 - p_i[-1]) ** m_i[-1] * product)\n",
    "\n",
    "\n",
    "res = differential_evolution(\n",
    "    func=func,\n",
    "    bounds=[(3, 7), (1, 4)],\n",
    "    maxiter=10_000,\n",
    ")\n",
    "\n",
    "theta_1 = float(res.x[0])\n",
    "theta_2 = float(res.x[1])\n",
    "\n",
    "p_i = st.norm.cdf([1, 2, 3, 4, 5, 6, 7, 8, 9], loc=theta_1, scale=theta_2)\n",
    "\n",
    "np_i = []\n",
    "np_i.append(n * p_i[0])\n",
    "for i in range(8):\n",
    "    np_i.append(n * (p_i[i + 1] - p_i[i]))\n",
    "np_i.append(n * (1 - p_i[-1]))\n",
    "\n",
    "np_i = np.array(np_i)\n",
    "\n",
    "print(\n",
    "    f\"{theta_1 = }\",\n",
    "    f\"{theta_2 = }\",\n",
    "    f\"\\n{np_i = }\",\n",
    "    sep=\"\\n\"\n",
    ")"
   ]
  },
  {
   "cell_type": "code",
   "execution_count": null,
   "metadata": {},
   "outputs": [
    {
     "name": "stdout",
     "output_type": "stream",
     "text": [
      "chi2_delta = 9.805241887963016\n",
      "chi2_pval = 0.19988151155269773\n"
     ]
    }
   ],
   "source": [
    "chi2_delta = float(np.sum((np_i - m_i) ** 2 / np_i))\n",
    "chi2_pval = float(st.chi2.sf(chi2_delta, 7))\n",
    "\n",
    "print(\n",
    "    f\"{chi2_delta = }\",\n",
    "    f\"{chi2_pval = }\",\n",
    "    sep=\"\\n\"\n",
    ")"
   ]
  },
  {
   "cell_type": "markdown",
   "metadata": {},
   "source": [
    "##### Колмогоров"
   ]
  },
  {
   "cell_type": "code",
   "execution_count": null,
   "metadata": {},
   "outputs": [
    {
     "name": "stdout",
     "output_type": "stream",
     "text": [
      "kolmogorov_delta = 1.0020942299329128\n",
      "kolmogorov_pval = 0.01506\n"
     ]
    }
   ],
   "source": [
    "from collections.abc import Callable\n",
    "\n",
    "\n",
    "def parametric_bootstrap(\n",
    "    data: np.ndarray,\n",
    "    statistic: Callable[[np.ndarray], float],\n",
    "    prob_model: Callable[[int], np.ndarray],\n",
    "    n_resamples: int = 10_000,\n",
    ") -> np.ndarray:\n",
    "    n = len(data)\n",
    "    bootstrap_data = np.ndarray((n_resamples, ), dtype=np.float32)\n",
    "\n",
    "    for i in range(n_resamples):\n",
    "        resample = prob_model(n)\n",
    "        bootstrap_data[i] = statistic(resample)\n",
    "    \n",
    "    bootstrap_data.sort()\n",
    "\n",
    "    return bootstrap_data\n",
    "\n",
    "\n",
    "def statistic(data):\n",
    "    data = np.sort(data)\n",
    "\n",
    "    mean = np.mean(data)\n",
    "    std = np.std(data, ddof=1)\n",
    "\n",
    "    ecdf = np.append([0], st.ecdf(data).cdf.probabilities)\n",
    "    cdf = st.norm.cdf(data, loc=mean, scale=std)\n",
    "    delta = np.sqrt(n) * np.max(np.abs(\n",
    "        np.append(\n",
    "            cdf - ecdf[:len(ecdf) - 1],\n",
    "            cdf - ecdf[1:]\n",
    "        )\n",
    "    ))\n",
    "\n",
    "    return delta\n",
    "\n",
    "\n",
    "mean = np.mean(sample)\n",
    "std = np.std(sample, ddof=1)\n",
    "n_resamples = 50_000\n",
    "bootstrap = parametric_bootstrap(\n",
    "    sample,\n",
    "    statistic,\n",
    "    lambda n: np.random.normal(mean, std, n),\n",
    "    n_resamples=n_resamples,\n",
    ")\n",
    "\n",
    "x = np.linspace(0, 9, 10)\n",
    "ecdf = np.append([0], st.ecdf(sample).cdf.probabilities)\n",
    "cdf = st.norm.cdf(x, loc=mean, scale=std)\n",
    "kolmogorov_delta = np.sqrt(n) * np.max(np.abs(\n",
    "    np.append(\n",
    "        cdf - ecdf[:10],\n",
    "        cdf - ecdf[1:]\n",
    "    )\n",
    "))\n",
    "kolmogorov_delta = float(kolmogorov_delta)\n",
    "\n",
    "kolmogorov_pval = np.count_nonzero(bootstrap >= kolmogorov_delta) / n_resamples\n",
    "\n",
    "print(\n",
    "    f\"{kolmogorov_delta = }\",\n",
    "    f\"{kolmogorov_pval = }\",\n",
    "    sep=\"\\n\"\n",
    ")"
   ]
  }
 ],
 "metadata": {
  "kernelspec": {
   "display_name": "venv",
   "language": "python",
   "name": "python3"
  },
  "language_info": {
   "codemirror_mode": {
    "name": "ipython",
    "version": 3
   },
   "file_extension": ".py",
   "mimetype": "text/x-python",
   "name": "python",
   "nbconvert_exporter": "python",
   "pygments_lexer": "ipython3",
   "version": "3.12.3"
  }
 },
 "nbformat": 4,
 "nbformat_minor": 2
}
